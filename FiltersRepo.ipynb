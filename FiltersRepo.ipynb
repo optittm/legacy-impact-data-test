{
 "cells": [
  {
   "cell_type": "markdown",
   "metadata": {},
   "source": [
    "# Imports"
   ]
  },
  {
   "cell_type": "code",
   "execution_count": 1,
   "metadata": {},
   "outputs": [],
   "source": [
    "import os\n",
    "\n",
    "from github import Github, Auth\n",
    "from rich import print\n",
    "from rich.panel import Panel\n",
    "from rich.console import Console\n",
    "from rich.table import Table"
   ]
  },
  {
   "cell_type": "markdown",
   "metadata": {},
   "source": [
    "### Global Variables"
   ]
  },
  {
   "cell_type": "code",
   "execution_count": 2,
   "metadata": {},
   "outputs": [],
   "source": [
    "NB_REPO = 10\n",
    "g = Github(auth=Auth.Token(os.getenv('GITHUB_TOKEN')))\n",
    "long_data = []"
   ]
  },
  {
   "cell_type": "markdown",
   "metadata": {},
   "source": [
    "### Basic configuration"
   ]
  },
  {
   "cell_type": "code",
   "execution_count": 3,
   "metadata": {},
   "outputs": [],
   "source": [
    "console = Console(color_system=\"auto\")\n",
    "table = Table(title=\"Repositories\", show_lines=True, expand=True)"
   ]
  },
  {
   "cell_type": "markdown",
   "metadata": {},
   "source": [
    "### Search Methods"
   ]
  },
  {
   "cell_type": "code",
   "execution_count": 4,
   "metadata": {},
   "outputs": [],
   "source": [
    "def find_repos(query):\n",
    "    i = 0        \n",
    "    repos = g.search_repositories(query=query)\n",
    "    for repo in repos:\n",
    "        yield(\n",
    "            repo.full_name,\n",
    "            str(repo.stargazers_count),\n",
    "            str(repo.forks),\n",
    "            str(repo.size),\n",
    "            str(g.search_issues(query=f\"repo:{repo.full_name} is:merged linked:issue\").totalCount),\n",
    "            ', '.join(repo.topics),\n",
    "            repo.language,\n",
    "            repo.html_url,\n",
    "            repo.description,\n",
    "            str(repo.subscribers_count)\n",
    "        )\n",
    "        i += 1\n",
    "        if i == int(NB_REPO):\n",
    "            break"
   ]
  },
  {
   "cell_type": "code",
   "execution_count": 5,
   "metadata": {},
   "outputs": [],
   "source": [
    "def insert_into_tables(repos_data):\n",
    "    for data in repos_data:\n",
    "        table.add_row(data[0], data[1], data[9], data[2], data[3], data[4], data[6])\n",
    "        long_data.append({\n",
    "            \"fullname\": data[0],\n",
    "            \"description\": data[8],\n",
    "            \"topics\": data[5],\n",
    "            \"url\": data[7],\n",
    "        })"
   ]
  },
  {
   "cell_type": "markdown",
   "metadata": {},
   "source": [
    "# Tests"
   ]
  },
  {
   "cell_type": "markdown",
   "metadata": {},
   "source": [
    "### Columns"
   ]
  },
  {
   "cell_type": "code",
   "execution_count": 6,
   "metadata": {},
   "outputs": [],
   "source": [
    "columns = [\"FullName\", \"Stars\", \"Subscribers\", \"Forks\", \"Size\", \"Issues\", \"Lang\"] # Size in KB\n",
    "for column in columns:\n",
    "    table.add_column(column, justify=\"center\", header_style=\"bold dodger_blue1\")"
   ]
  },
  {
   "cell_type": "markdown",
   "metadata": {},
   "source": [
    "### Data / Rows"
   ]
  },
  {
   "cell_type": "code",
   "execution_count": null,
   "metadata": {},
   "outputs": [],
   "source": [
    "repos_data = find_repos(\"stars:>=10000 language:python is:public archived:false pushed:>=2024-01-01\")\n",
    "insert_into_tables(repos_data)"
   ]
  },
  {
   "cell_type": "code",
   "execution_count": 7,
   "metadata": {},
   "outputs": [],
   "source": [
    "repos_data = find_repos(\"size:>=30000 language:Javascript is:public archived:false pushed:>=2024-01-01\")\n",
    "insert_into_tables(repos_data)"
   ]
  },
  {
   "cell_type": "code",
   "execution_count": null,
   "metadata": {},
   "outputs": [],
   "source": [
    "repos_data = find_repos(\"forks:>=200 Language:C is:public archived:false pushed:>=2024-01-01\")\n",
    "insert_into_tables(repos_data)"
   ]
  },
  {
   "cell_type": "markdown",
   "metadata": {},
   "source": [
    "## Display results"
   ]
  },
  {
   "cell_type": "code",
   "execution_count": 8,
   "metadata": {},
   "outputs": [
    {
     "data": {
      "text/html": [
       "<pre style=\"white-space:pre;overflow-x:auto;line-height:normal;font-family:Menlo,'DejaVu Sans Mono',consolas,'Courier New',monospace\"><span style=\"font-style: italic\">                                                   Repositories                                                    </span>\n",
       "┏━━━━━━━━━━━━━━━━━━━━━━━━━━━━━━━━━━━━━━━━┳━━━━━━━━━━┳━━━━━━━━━━━━━━━━┳━━━━━━━━┳━━━━━━━━━━━┳━━━━━━━━━┳━━━━━━━━━━━━━┓\n",
       "┃<span style=\"color: #0087ff; text-decoration-color: #0087ff; font-weight: bold\">                FullName                </span>┃<span style=\"color: #0087ff; text-decoration-color: #0087ff; font-weight: bold\">  Stars   </span>┃<span style=\"color: #0087ff; text-decoration-color: #0087ff; font-weight: bold\">  Subscribers   </span>┃<span style=\"color: #0087ff; text-decoration-color: #0087ff; font-weight: bold\"> Forks  </span>┃<span style=\"color: #0087ff; text-decoration-color: #0087ff; font-weight: bold\">   Size    </span>┃<span style=\"color: #0087ff; text-decoration-color: #0087ff; font-weight: bold\"> Issues  </span>┃<span style=\"color: #0087ff; text-decoration-color: #0087ff; font-weight: bold\">    Lang     </span>┃\n",
       "┡━━━━━━━━━━━━━━━━━━━━━━━━━━━━━━━━━━━━━━━━╇━━━━━━━━━━╇━━━━━━━━━━━━━━━━╇━━━━━━━━╇━━━━━━━━━━━╇━━━━━━━━━╇━━━━━━━━━━━━━┩\n",
       "│             facebook/react             │  220385  │      6627      │ 45030  │  406656   │   661   │ JavaScript  │\n",
       "├────────────────────────────────────────┼──────────┼────────────────┼────────┼───────────┼─────────┼─────────────┤\n",
       "│             twbs/bootstrap             │  167123  │      6766      │ 78330  │  241151   │  1000   │ JavaScript  │\n",
       "├────────────────────────────────────────┼──────────┼────────────────┼────────┼───────────┼─────────┼─────────────┤\n",
       "│      Significant-Gravitas/AutoGPT      │  159694  │      1565      │ 41074  │   99838   │   60    │ JavaScript  │\n",
       "├────────────────────────────────────────┼──────────┼────────────────┼────────┼───────────┼─────────┼─────────────┤\n",
       "│             vercel/next.js             │  119372  │      1433      │ 25497  │  1943169  │  1000   │ JavaScript  │\n",
       "├────────────────────────────────────────┼──────────┼────────────────┼────────┼───────────┼─────────┼─────────────┤\n",
       "│    Chalarangelo/30-seconds-of-code     │  118607  │      2575      │ 11818  │  623210   │   32    │ JavaScript  │\n",
       "├────────────────────────────────────────┼──────────┼────────────────┼────────┼───────────┼─────────┼─────────────┤\n",
       "│              nodejs/node               │  102620  │      2913      │ 27547  │  1096937  │  1000   │ JavaScript  │\n",
       "├────────────────────────────────────────┼──────────┼────────────────┼────────┼───────────┼─────────┼─────────────┤\n",
       "│            mrdoob/three.js             │  98166   │      2546      │ 34996  │  1348696  │  1000   │ JavaScript  │\n",
       "├────────────────────────────────────────┼──────────┼────────────────┼────────┼───────────┼─────────┼─────────────┤\n",
       "│    microsoft/Web-Dev-For-Beginners     │  81008   │      2697      │ 12120  │   86694   │   12    │ JavaScript  │\n",
       "├────────────────────────────────────────┼──────────┼────────────────┼────────┼───────────┼─────────┼─────────────┤\n",
       "│             iptv-org/iptv              │  77030   │      1834      │  1606  │  549318   │   653   │ JavaScript  │\n",
       "├────────────────────────────────────────┼──────────┼────────────────┼────────┼───────────┼─────────┼─────────────┤\n",
       "│            sveltejs/svelte             │  75942   │      861       │  3888  │  104216   │  1000   │ JavaScript  │\n",
       "└────────────────────────────────────────┴──────────┴────────────────┴────────┴───────────┴─────────┴─────────────┘\n",
       "</pre>\n"
      ],
      "text/plain": [
       "\u001b[3m                                                   Repositories                                                    \u001b[0m\n",
       "┏━━━━━━━━━━━━━━━━━━━━━━━━━━━━━━━━━━━━━━━━┳━━━━━━━━━━┳━━━━━━━━━━━━━━━━┳━━━━━━━━┳━━━━━━━━━━━┳━━━━━━━━━┳━━━━━━━━━━━━━┓\n",
       "┃\u001b[1;38;5;33m \u001b[0m\u001b[1;38;5;33m               FullName               \u001b[0m\u001b[1;38;5;33m \u001b[0m┃\u001b[1;38;5;33m \u001b[0m\u001b[1;38;5;33m Stars  \u001b[0m\u001b[1;38;5;33m \u001b[0m┃\u001b[1;38;5;33m \u001b[0m\u001b[1;38;5;33m Subscribers  \u001b[0m\u001b[1;38;5;33m \u001b[0m┃\u001b[1;38;5;33m \u001b[0m\u001b[1;38;5;33mForks \u001b[0m\u001b[1;38;5;33m \u001b[0m┃\u001b[1;38;5;33m \u001b[0m\u001b[1;38;5;33m  Size   \u001b[0m\u001b[1;38;5;33m \u001b[0m┃\u001b[1;38;5;33m \u001b[0m\u001b[1;38;5;33mIssues \u001b[0m\u001b[1;38;5;33m \u001b[0m┃\u001b[1;38;5;33m \u001b[0m\u001b[1;38;5;33m   Lang    \u001b[0m\u001b[1;38;5;33m \u001b[0m┃\n",
       "┡━━━━━━━━━━━━━━━━━━━━━━━━━━━━━━━━━━━━━━━━╇━━━━━━━━━━╇━━━━━━━━━━━━━━━━╇━━━━━━━━╇━━━━━━━━━━━╇━━━━━━━━━╇━━━━━━━━━━━━━┩\n",
       "│             facebook/react             │  220385  │      6627      │ 45030  │  406656   │   661   │ JavaScript  │\n",
       "├────────────────────────────────────────┼──────────┼────────────────┼────────┼───────────┼─────────┼─────────────┤\n",
       "│             twbs/bootstrap             │  167123  │      6766      │ 78330  │  241151   │  1000   │ JavaScript  │\n",
       "├────────────────────────────────────────┼──────────┼────────────────┼────────┼───────────┼─────────┼─────────────┤\n",
       "│      Significant-Gravitas/AutoGPT      │  159694  │      1565      │ 41074  │   99838   │   60    │ JavaScript  │\n",
       "├────────────────────────────────────────┼──────────┼────────────────┼────────┼───────────┼─────────┼─────────────┤\n",
       "│             vercel/next.js             │  119372  │      1433      │ 25497  │  1943169  │  1000   │ JavaScript  │\n",
       "├────────────────────────────────────────┼──────────┼────────────────┼────────┼───────────┼─────────┼─────────────┤\n",
       "│    Chalarangelo/30-seconds-of-code     │  118607  │      2575      │ 11818  │  623210   │   32    │ JavaScript  │\n",
       "├────────────────────────────────────────┼──────────┼────────────────┼────────┼───────────┼─────────┼─────────────┤\n",
       "│              nodejs/node               │  102620  │      2913      │ 27547  │  1096937  │  1000   │ JavaScript  │\n",
       "├────────────────────────────────────────┼──────────┼────────────────┼────────┼───────────┼─────────┼─────────────┤\n",
       "│            mrdoob/three.js             │  98166   │      2546      │ 34996  │  1348696  │  1000   │ JavaScript  │\n",
       "├────────────────────────────────────────┼──────────┼────────────────┼────────┼───────────┼─────────┼─────────────┤\n",
       "│    microsoft/Web-Dev-For-Beginners     │  81008   │      2697      │ 12120  │   86694   │   12    │ JavaScript  │\n",
       "├────────────────────────────────────────┼──────────┼────────────────┼────────┼───────────┼─────────┼─────────────┤\n",
       "│             iptv-org/iptv              │  77030   │      1834      │  1606  │  549318   │   653   │ JavaScript  │\n",
       "├────────────────────────────────────────┼──────────┼────────────────┼────────┼───────────┼─────────┼─────────────┤\n",
       "│            sveltejs/svelte             │  75942   │      861       │  3888  │  104216   │  1000   │ JavaScript  │\n",
       "└────────────────────────────────────────┴──────────┴────────────────┴────────┴───────────┴─────────┴─────────────┘\n"
      ]
     },
     "metadata": {},
     "output_type": "display_data"
    },
    {
     "data": {
      "text/html": [
       "<pre style=\"white-space:pre;overflow-x:auto;line-height:normal;font-family:Menlo,'DejaVu Sans Mono',consolas,'Courier New',monospace\">╭──────────────────────── facebook/react ─────────────────────────╮\n",
       "│ description : The library for web and native user interfaces.   │\n",
       "│  topics : declarative, frontend, javascript, library, react, ui │\n",
       "│  URL : <a href=\"https://github.com/facebook/react\" target=\"_blank\">https://github.com/facebook/react</a>                        │\n",
       "╰─────────────────────────────────────────────────────────────────╯\n",
       "</pre>\n"
      ],
      "text/plain": [
       "╭──────────────────────── facebook/react ─────────────────────────╮\n",
       "│ description : The library for web and native user interfaces.   │\n",
       "│  topics : declarative, frontend, javascript, library, react, ui │\n",
       "│  URL : \u001b]8;id=855679;https://github.com/facebook/react\u001b\\https://github.com/facebook/react\u001b]8;;\u001b\\                        │\n",
       "╰─────────────────────────────────────────────────────────────────╯\n"
      ]
     },
     "metadata": {},
     "output_type": "display_data"
    },
    {
     "data": {
      "text/html": [
       "<pre style=\"white-space:pre;overflow-x:auto;line-height:normal;font-family:Menlo,'DejaVu Sans Mono',consolas,'Courier New',monospace\">╭──────────────────────────────────────────────── twbs/bootstrap ─────────────────────────────────────────────────╮\n",
       "│ description : The most popular HTML, CSS, and JavaScript framework for developing responsive, mobile first      │\n",
       "│ projects on the web.                                                                                            │\n",
       "│  topics : bootstrap, css, css-framework, html, javascript, sass, scss                                           │\n",
       "│  URL : <a href=\"https://github.com/twbs/bootstrap\" target=\"_blank\">https://github.com/twbs/bootstrap</a>                                                                        │\n",
       "╰─────────────────────────────────────────────────────────────────────────────────────────────────────────────────╯\n",
       "</pre>\n"
      ],
      "text/plain": [
       "╭──────────────────────────────────────────────── twbs/bootstrap ─────────────────────────────────────────────────╮\n",
       "│ description : The most popular HTML, CSS, and JavaScript framework for developing responsive, mobile first      │\n",
       "│ projects on the web.                                                                                            │\n",
       "│  topics : bootstrap, css, css-framework, html, javascript, sass, scss                                           │\n",
       "│  URL : \u001b]8;id=239152;https://github.com/twbs/bootstrap\u001b\\https://github.com/twbs/bootstrap\u001b]8;;\u001b\\                                                                        │\n",
       "╰─────────────────────────────────────────────────────────────────────────────────────────────────────────────────╯\n"
      ]
     },
     "metadata": {},
     "output_type": "display_data"
    },
    {
     "data": {
      "text/html": [
       "<pre style=\"white-space:pre;overflow-x:auto;line-height:normal;font-family:Menlo,'DejaVu Sans Mono',consolas,'Courier New',monospace\">╭───────────────────────────────────────── Significant-Gravitas/AutoGPT ──────────────────────────────────────────╮\n",
       "│ description : AutoGPT is the vision of accessible AI for everyone, to use and to build on. Our mission is to    │\n",
       "│ provide the tools, so that you can focus on what matters.                                                       │\n",
       "│  topics : ai, artificial-intelligence, autonomous-agents, gpt-4, openai, python                                 │\n",
       "│  URL : <a href=\"https://github.com/Significant-Gravitas/AutoGPT\" target=\"_blank\">https://github.com/Significant-Gravitas/AutoGPT</a>                                                          │\n",
       "╰─────────────────────────────────────────────────────────────────────────────────────────────────────────────────╯\n",
       "</pre>\n"
      ],
      "text/plain": [
       "╭───────────────────────────────────────── Significant-Gravitas/AutoGPT ──────────────────────────────────────────╮\n",
       "│ description : AutoGPT is the vision of accessible AI for everyone, to use and to build on. Our mission is to    │\n",
       "│ provide the tools, so that you can focus on what matters.                                                       │\n",
       "│  topics : ai, artificial-intelligence, autonomous-agents, gpt-4, openai, python                                 │\n",
       "│  URL : \u001b]8;id=100036;https://github.com/Significant-Gravitas/AutoGPT\u001b\\https://github.com/Significant-Gravitas/AutoGPT\u001b]8;;\u001b\\                                                          │\n",
       "╰─────────────────────────────────────────────────────────────────────────────────────────────────────────────────╯\n"
      ]
     },
     "metadata": {},
     "output_type": "display_data"
    },
    {
     "data": {
      "text/html": [
       "<pre style=\"white-space:pre;overflow-x:auto;line-height:normal;font-family:Menlo,'DejaVu Sans Mono',consolas,'Courier New',monospace\">╭──────────────────────────────────────────────── vercel/next.js ─────────────────────────────────────────────────╮\n",
       "│ description : The React Framework                                                                               │\n",
       "│  topics : blog, browser, compiler, components, hybrid, nextjs, node, react, server-rendering, ssg, static,      │\n",
       "│ static-site-generator, universal, vercel                                                                        │\n",
       "│  URL : <a href=\"https://github.com/vercel/next.js\" target=\"_blank\">https://github.com/vercel/next.js</a>                                                                        │\n",
       "╰─────────────────────────────────────────────────────────────────────────────────────────────────────────────────╯\n",
       "</pre>\n"
      ],
      "text/plain": [
       "╭──────────────────────────────────────────────── vercel/next.js ─────────────────────────────────────────────────╮\n",
       "│ description : The React Framework                                                                               │\n",
       "│  topics : blog, browser, compiler, components, hybrid, nextjs, node, react, server-rendering, ssg, static,      │\n",
       "│ static-site-generator, universal, vercel                                                                        │\n",
       "│  URL : \u001b]8;id=220724;https://github.com/vercel/next.js\u001b\\https://github.com/vercel/next.js\u001b]8;;\u001b\\                                                                        │\n",
       "╰─────────────────────────────────────────────────────────────────────────────────────────────────────────────────╯\n"
      ]
     },
     "metadata": {},
     "output_type": "display_data"
    },
    {
     "data": {
      "text/html": [
       "<pre style=\"white-space:pre;overflow-x:auto;line-height:normal;font-family:Menlo,'DejaVu Sans Mono',consolas,'Courier New',monospace\">╭──────────────────────────────────────── Chalarangelo/30-seconds-of-code ────────────────────────────────────────╮\n",
       "│ description : Short code snippets for all your development needs                                                │\n",
       "│  topics : astro, awesome-list, css, education, es6-javascript, git, github-actions, html, javascript,           │\n",
       "│ learn-to-code, learning-resources, netlify, nodejs, programming, python, reactjs, snippets,                     │\n",
       "│ snippets-collection, website-infrastructure                                                                     │\n",
       "│  URL : <a href=\"https://github.com/Chalarangelo/30-seconds-of-code\" target=\"_blank\">https://github.com/Chalarangelo/30-seconds-of-code</a>                                                       │\n",
       "╰─────────────────────────────────────────────────────────────────────────────────────────────────────────────────╯\n",
       "</pre>\n"
      ],
      "text/plain": [
       "╭──────────────────────────────────────── Chalarangelo/30-seconds-of-code ────────────────────────────────────────╮\n",
       "│ description : Short code snippets for all your development needs                                                │\n",
       "│  topics : astro, awesome-list, css, education, es6-javascript, git, github-actions, html, javascript,           │\n",
       "│ learn-to-code, learning-resources, netlify, nodejs, programming, python, reactjs, snippets,                     │\n",
       "│ snippets-collection, website-infrastructure                                                                     │\n",
       "│  URL : \u001b]8;id=40993;https://github.com/Chalarangelo/30-seconds-of-code\u001b\\https://github.com/Chalarangelo/30-seconds-of-code\u001b]8;;\u001b\\                                                       │\n",
       "╰─────────────────────────────────────────────────────────────────────────────────────────────────────────────────╯\n"
      ]
     },
     "metadata": {},
     "output_type": "display_data"
    },
    {
     "data": {
      "text/html": [
       "<pre style=\"white-space:pre;overflow-x:auto;line-height:normal;font-family:Menlo,'DejaVu Sans Mono',consolas,'Courier New',monospace\">╭──────────────────────────────── nodejs/node ────────────────────────────────╮\n",
       "│ description : Node.js JavaScript runtime ✨🐢🚀✨                           │\n",
       "│  topics : javascript, js, linux, macos, mit, node, nodejs, runtime, windows │\n",
       "│  URL : <a href=\"https://github.com/nodejs/node\" target=\"_blank\">https://github.com/nodejs/node</a>                                       │\n",
       "╰─────────────────────────────────────────────────────────────────────────────╯\n",
       "</pre>\n"
      ],
      "text/plain": [
       "╭──────────────────────────────── nodejs/node ────────────────────────────────╮\n",
       "│ description : Node.js JavaScript runtime ✨🐢🚀✨                           │\n",
       "│  topics : javascript, js, linux, macos, mit, node, nodejs, runtime, windows │\n",
       "│  URL : \u001b]8;id=323960;https://github.com/nodejs/node\u001b\\https://github.com/nodejs/node\u001b]8;;\u001b\\                                       │\n",
       "╰─────────────────────────────────────────────────────────────────────────────╯\n"
      ]
     },
     "metadata": {},
     "output_type": "display_data"
    },
    {
     "data": {
      "text/html": [
       "<pre style=\"white-space:pre;overflow-x:auto;line-height:normal;font-family:Menlo,'DejaVu Sans Mono',consolas,'Courier New',monospace\">╭──────────────────────────────────────────────── mrdoob/three.js ────────────────────────────────────────────────╮\n",
       "│ description : JavaScript 3D Library.                                                                            │\n",
       "│  topics : 3d, augmented-reality, canvas, html5, javascript, svg, virtual-reality, webaudio, webgl, webgl2,      │\n",
       "│ webgpu, webxr                                                                                                   │\n",
       "│  URL : <a href=\"https://github.com/mrdoob/three.js\" target=\"_blank\">https://github.com/mrdoob/three.js</a>                                                                       │\n",
       "╰─────────────────────────────────────────────────────────────────────────────────────────────────────────────────╯\n",
       "</pre>\n"
      ],
      "text/plain": [
       "╭──────────────────────────────────────────────── mrdoob/three.js ────────────────────────────────────────────────╮\n",
       "│ description : JavaScript 3D Library.                                                                            │\n",
       "│  topics : 3d, augmented-reality, canvas, html5, javascript, svg, virtual-reality, webaudio, webgl, webgl2,      │\n",
       "│ webgpu, webxr                                                                                                   │\n",
       "│  URL : \u001b]8;id=745065;https://github.com/mrdoob/three.js\u001b\\https://github.com/mrdoob/three.js\u001b]8;;\u001b\\                                                                       │\n",
       "╰─────────────────────────────────────────────────────────────────────────────────────────────────────────────────╯\n"
      ]
     },
     "metadata": {},
     "output_type": "display_data"
    },
    {
     "data": {
      "text/html": [
       "<pre style=\"white-space:pre;overflow-x:auto;line-height:normal;font-family:Menlo,'DejaVu Sans Mono',consolas,'Courier New',monospace\">╭────────────────────── microsoft/Web-Dev-For-Beginners ──────────────────────╮\n",
       "│ description : 24 Lessons, 12 Weeks, Get Started as a Web Developer          │\n",
       "│  topics : css, curriculum, education, html, javascript, learning, tutorials │\n",
       "│  URL : <a href=\"https://github.com/microsoft/Web-Dev-For-Beginners\" target=\"_blank\">https://github.com/microsoft/Web-Dev-For-Beginners</a>                   │\n",
       "╰─────────────────────────────────────────────────────────────────────────────╯\n",
       "</pre>\n"
      ],
      "text/plain": [
       "╭────────────────────── microsoft/Web-Dev-For-Beginners ──────────────────────╮\n",
       "│ description : 24 Lessons, 12 Weeks, Get Started as a Web Developer          │\n",
       "│  topics : css, curriculum, education, html, javascript, learning, tutorials │\n",
       "│  URL : \u001b]8;id=933677;https://github.com/microsoft/Web-Dev-For-Beginners\u001b\\https://github.com/microsoft/Web-Dev-For-Beginners\u001b]8;;\u001b\\                   │\n",
       "╰─────────────────────────────────────────────────────────────────────────────╯\n"
      ]
     },
     "metadata": {},
     "output_type": "display_data"
    },
    {
     "data": {
      "text/html": [
       "<pre style=\"white-space:pre;overflow-x:auto;line-height:normal;font-family:Menlo,'DejaVu Sans Mono',consolas,'Courier New',monospace\">╭─────────────────────────────────── iptv-org/iptv ────────────────────────────────────╮\n",
       "│ description : Collection of publicly available IPTV channels from all over the world │\n",
       "│  topics : iptv, m3u, playlist, streams, tv                                           │\n",
       "│  URL : <a href=\"https://github.com/iptv-org/iptv\" target=\"_blank\">https://github.com/iptv-org/iptv</a>                                              │\n",
       "╰──────────────────────────────────────────────────────────────────────────────────────╯\n",
       "</pre>\n"
      ],
      "text/plain": [
       "╭─────────────────────────────────── iptv-org/iptv ────────────────────────────────────╮\n",
       "│ description : Collection of publicly available IPTV channels from all over the world │\n",
       "│  topics : iptv, m3u, playlist, streams, tv                                           │\n",
       "│  URL : \u001b]8;id=784090;https://github.com/iptv-org/iptv\u001b\\https://github.com/iptv-org/iptv\u001b]8;;\u001b\\                                              │\n",
       "╰──────────────────────────────────────────────────────────────────────────────────────╯\n"
      ]
     },
     "metadata": {},
     "output_type": "display_data"
    },
    {
     "data": {
      "text/html": [
       "<pre style=\"white-space:pre;overflow-x:auto;line-height:normal;font-family:Menlo,'DejaVu Sans Mono',consolas,'Courier New',monospace\">╭─────────────── sveltejs/svelte ────────────────╮\n",
       "│ description : Cybernetically enhanced web apps │\n",
       "│  topics : compiler, template, ui               │\n",
       "│  URL : <a href=\"https://github.com/sveltejs/svelte\" target=\"_blank\">https://github.com/sveltejs/svelte</a>      │\n",
       "╰────────────────────────────────────────────────╯\n",
       "</pre>\n"
      ],
      "text/plain": [
       "╭─────────────── sveltejs/svelte ────────────────╮\n",
       "│ description : Cybernetically enhanced web apps │\n",
       "│  topics : compiler, template, ui               │\n",
       "│  URL : \u001b]8;id=185448;https://github.com/sveltejs/svelte\u001b\\https://github.com/sveltejs/svelte\u001b]8;;\u001b\\      │\n",
       "╰────────────────────────────────────────────────╯\n"
      ]
     },
     "metadata": {},
     "output_type": "display_data"
    }
   ],
   "source": [
    "console.print(table)\n",
    "for data in long_data:\n",
    "    print(Panel.fit(\"description : \" + data[\"description\"] + \"\\n topics : \" + data[\"topics\"] + \"\\n URL : \" + f\"[link={data['url']}]{data['url']}[/link]\", title=data[\"fullname\"]))"
   ]
  }
 ],
 "metadata": {
  "kernelspec": {
   "display_name": ".venv",
   "language": "python",
   "name": "python3"
  },
  "language_info": {
   "codemirror_mode": {
    "name": "ipython",
    "version": 3
   },
   "file_extension": ".py",
   "mimetype": "text/x-python",
   "name": "python",
   "nbconvert_exporter": "python",
   "pygments_lexer": "ipython3",
   "version": "3.11.8"
  }
 },
 "nbformat": 4,
 "nbformat_minor": 2
}
